{
 "cells": [
  {
   "cell_type": "code",
   "execution_count": 1,
   "metadata": {
    "collapsed": false
   },
   "outputs": [],
   "source": [
    "\"\"\"\n",
    "Analyse a single chip CSV from data folder.\n",
    "\"\"\"\n",
    "\n",
    "import pandas as pd\n",
    "import numpy as np\n",
    "import matplotlib\n",
    "import matplotlib.dates as mdates\n",
    "import matplotlib.pyplot as plt\n",
    "import glob as gb\n",
    "import os\n",
    "\n",
    "font = {'family' : 'normal',\n",
    "#         'weight' : 'normal',\n",
    "        'size'   : 18}\n",
    "\n",
    "matplotlib.rc('font', **font)"
   ]
  },
  {
   "cell_type": "code",
   "execution_count": 4,
   "metadata": {
    "collapsed": false
   },
   "outputs": [],
   "source": [
    "samples = os.listdir('Data/Collimated Beam')\n",
    "#     \n",
    "\n",
    "for sample in samples:\n",
    "    try:\n",
    "        df = pd.DataFrame()\n",
    "\n",
    "        # Get list of folders\n",
    "        folders = gb.glob(\"Data/Collimated Beam/\" + sample + \"/*/\")\n",
    "        for folder in folders:\n",
    "\n",
    "            # Load HDF file\n",
    "            df_file = pd.read_csv(folder + '/analysis.csv')\n",
    "\n",
    "            # Add sweep data to measurement dataframe\n",
    "            df = df.append(df_file)\n",
    "\n",
    "        # Sort rows by datetime\n",
    "        df['datetime'] = pd.to_datetime(df['datetime'])\n",
    "        df = df.set_index('datetime').sort_index()\n",
    "        df = df.reset_index()\n",
    "\n",
    "        grouped = df.groupby(['concentration'])\n",
    "        mean = grouped.mean()\n",
    "        conc = mean.reset_index()\n",
    "        std = grouped.std()\n",
    "\n",
    "        plt.errorbar(conc['concentration'], mean['tau'], yerr=std['tau'], color='b', lw='2')\n",
    "        plt.xlabel('Glucose concentration (mmol)')\n",
    "        plt.ylabel('Lifetime (ms)')\n",
    "        plt.title('{0}: delta tau = {1:.4f} ms'.format(sample, max(mean['tau'])-min(mean['tau'])))\n",
    "        plt.grid()\n",
    "        plt.tight_layout()\n",
    "        plt.ticklabel_format(useOffset=False, axis='y')\n",
    "        plt.xlim([0, 20])\n",
    "        plt.savefig(\"Data/Plots/\" + sample + '.png', dpi=500)\n",
    "        plt.close()\n",
    "    except:\n",
    "        print(sample)"
   ]
  },
  {
   "cell_type": "markdown",
   "metadata": {},
   "source": [
    "# Two in one"
   ]
  },
  {
   "cell_type": "code",
   "execution_count": 14,
   "metadata": {
    "collapsed": true
   },
   "outputs": [],
   "source": [
    "sample = 'T12'\n",
    "df = pd.DataFrame()\n",
    "\n",
    "# Get list of folders\n",
    "folders = gb.glob(\"Data/Collimated Beam/\" + sample + \"/*/\")\n",
    "for folder in folders:\n",
    "\n",
    "    # Load HDF file\n",
    "    df_file = pd.read_csv(folder + '/analysis.csv')\n",
    "\n",
    "    # Add sweep data to measurement dataframe\n",
    "    df = df.append(df_file)\n",
    "\n",
    "# Sort rows by datetime\n",
    "df['datetime'] = pd.to_datetime(df['datetime'])\n",
    "df = df.set_index('datetime').sort_index()\n",
    "df = df.reset_index()\n",
    "\n",
    "grouped = df.groupby(['concentration'])\n",
    "mean = grouped.mean()\n",
    "conc = mean.reset_index()\n",
    "std = grouped.std()"
   ]
  },
  {
   "cell_type": "code",
   "execution_count": 15,
   "metadata": {
    "collapsed": true
   },
   "outputs": [],
   "source": [
    "sample = 'T12_2'\n",
    "df = pd.DataFrame()\n",
    "\n",
    "# Get list of folders\n",
    "folders = gb.glob(\"Data/Collimated Beam/\" + sample + \"/*/\")\n",
    "for folder in folders:\n",
    "\n",
    "    # Load HDF file\n",
    "    df_file = pd.read_csv(folder + '/analysis.csv')\n",
    "\n",
    "    # Add sweep data to measurement dataframe\n",
    "    df = df.append(df_file)\n",
    "\n",
    "# Sort rows by datetime\n",
    "df['datetime'] = pd.to_datetime(df['datetime'])\n",
    "df = df.set_index('datetime').sort_index()\n",
    "df = df.reset_index()\n",
    "\n",
    "grouped = df.groupby(['concentration'])\n",
    "mean2 = grouped.mean()\n",
    "conc2 = mean.reset_index()\n",
    "std2 = grouped.std()"
   ]
  },
  {
   "cell_type": "code",
   "execution_count": 16,
   "metadata": {
    "collapsed": false
   },
   "outputs": [],
   "source": [
    "plt.errorbar(conc['concentration'], mean['tau'], yerr=std['tau'], color='b', lw='2')\n",
    "plt.errorbar(conc2['concentration'], mean2['tau'], yerr=std2['tau'], color='g', lw='2')\n",
    "plt.xlabel('Glucose concentration (mmol)')\n",
    "plt.ylabel('Lifetime (ms)')\n",
    "plt.grid()\n",
    "plt.tight_layout()\n",
    "plt.ticklabel_format(useOffset=False, axis='y')\n",
    "plt.legend(['T12', 'T12_2'], loc='best')\n",
    "plt.savefig(\"Data/Plots/\" + sample + '_two_in_one.png', dpi=500)\n",
    "plt.show()"
   ]
  },
  {
   "cell_type": "markdown",
   "metadata": {},
   "source": [
    "# Single"
   ]
  },
  {
   "cell_type": "code",
   "execution_count": 60,
   "metadata": {
    "collapsed": false
   },
   "outputs": [],
   "source": [
    "sample = 'T21_3'\n",
    "\n",
    "df = pd.DataFrame()\n",
    "\n",
    "# Get list of folders\n",
    "folders = gb.glob(\"Data/Collimated Beam/\" + sample + \"/*/\")\n",
    "for folder in folders:\n",
    "\n",
    "    # Load HDF file\n",
    "    df_file = pd.read_csv(folder + '/analysis.csv')\n",
    "\n",
    "    # Add sweep data to measurement dataframe\n",
    "    df = df.append(df_file)\n",
    "\n",
    "# Sort rows by datetime\n",
    "df['datetime'] = pd.to_datetime(df['datetime'])\n",
    "df = df.set_index('datetime').sort_index()\n",
    "df = df.reset_index()\n",
    "\n",
    "grouped = df.groupby(['concentration'])\n",
    "mean = grouped.mean()\n",
    "conc = mean.reset_index()\n",
    "std = grouped.std()\n",
    "\n",
    "# plt.errorbar(conc['concentration'], mean['tau'], yerr=std['tau'], color='b', lw='2')\n",
    "plt.plot(conc['concentration'], mean['tau'], 'b.-', lw='2', markersize=20)\n",
    "plt.xlabel('% intralipid (in water)')\n",
    "plt.ylabel('Lifetime (ms)')\n",
    "plt.title('{0}: delta tau = {1:.4f} ms'.format(sample, max(mean['tau'])-min(mean['tau'])))\n",
    "plt.grid()\n",
    "plt.tight_layout()\n",
    "plt.ticklabel_format(useOffset=False, axis='y')\n",
    "# plt.xlim([0, 20])\n",
    "plt.savefig(\"Data/Plots/\" + sample + '.png', dpi=500)\n",
    "plt.close()\n",
    "# plt.show()"
   ]
  },
  {
   "cell_type": "code",
   "execution_count": null,
   "metadata": {
    "collapsed": true
   },
   "outputs": [],
   "source": []
  }
 ],
 "metadata": {
  "kernelspec": {
   "display_name": "Python 3",
   "language": "python",
   "name": "python3"
  },
  "language_info": {
   "codemirror_mode": {
    "name": "ipython",
    "version": 3
   },
   "file_extension": ".py",
   "mimetype": "text/x-python",
   "name": "python",
   "nbconvert_exporter": "python",
   "pygments_lexer": "ipython3",
   "version": "3.5.1"
  }
 },
 "nbformat": 4,
 "nbformat_minor": 0
}
