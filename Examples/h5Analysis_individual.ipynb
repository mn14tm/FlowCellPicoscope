{
 "cells": [
  {
   "cell_type": "code",
   "execution_count": 1,
   "metadata": {
    "collapsed": true
   },
   "outputs": [],
   "source": [
    "import pandas as pd\n",
    "import numpy as np\n",
    "import matplotlib.dates as mdates\n",
    "import matplotlib.pyplot as plt\n",
    "import glob as gb\n",
    "import os\n",
    "from tqdm import tqdm\n",
    "from scipy.optimize import curve_fit\n",
    "\n",
    "def mono_exp_decay(t, a, tau, c):\n",
    "    \"\"\" Mono-exponential decay function. t is the time.\"\"\"\n",
    "    return a * np.exp(-t / tau) + c\n",
    "\n",
    "\n",
    "def fit_decay(t, y):\n",
    "    \"\"\" Function to fit the data, y, to the mono-exponential decay.\"\"\"\n",
    "    # Guess initial fitting parameters\n",
    "    a_guess = max(y) - min(y)\n",
    "\n",
    "    y_norm = y - min(y)\n",
    "    y_norm = y_norm / max(y_norm)\n",
    "    t_loc = np.where(y_norm <= 1/np.e)\n",
    "    tau_guess = t[t_loc[0][0]]\n",
    "\n",
    "    c_guess = min(y)\n",
    "    # Fit decay\n",
    "    popt, pcov = curve_fit(mono_exp_decay, t, y, p0=(a_guess, tau_guess, c_guess))\n",
    "    return popt"
   ]
  },
  {
   "cell_type": "code",
   "execution_count": 2,
   "metadata": {
    "collapsed": true
   },
   "outputs": [],
   "source": [
    "sample = \"/Collimated Beam/T16\"\n",
    "\n",
    "# Get list of folders\n",
    "files = gb.glob(\"Data/\" + sample + \"/**/*.h5\", recursive=True)"
   ]
  },
  {
   "cell_type": "code",
   "execution_count": 4,
   "metadata": {
    "collapsed": false
   },
   "outputs": [
    {
     "name": "stderr",
     "output_type": "stream",
     "text": [
      "100%|██████████████████████████████████████| 6600/6600 [42:08<00:00,  5.97it/s]\n"
     ]
    }
   ],
   "source": [
    "df = pd.DataFrame()\n",
    "for file in tqdm(files):\n",
    "    try:\n",
    "        # Load HDF file\n",
    "        store = pd.HDFStore(file)\n",
    "\n",
    "        df_file = store['log']\n",
    "        df_file['folder'] = file.split(os.sep)[1]\n",
    "\n",
    "        # Convert datatypes\n",
    "        df_file['tempC'] = df_file['tempC'].apply(float)\n",
    "        df_file['humidity'] = df_file['humidity'].apply(float)\n",
    "        df_file['chip'] = df_file['chip'].apply(str)\n",
    "        df_file['medium'] = df_file['medium'].apply(str)\n",
    "\n",
    "        # Create time axis in ms\n",
    "        fs = store['log']['fs'][0]\n",
    "        samples = store['log']['sample_no'][0]\n",
    "\n",
    "        x = np.arange(samples) * fs * 1E3\n",
    "\n",
    "        # Load decay data\n",
    "        y = store['data']\n",
    "\n",
    "        # Close hdf5 file\n",
    "        store.close()\n",
    "\n",
    "        # Calculate lifetime\n",
    "        popt = fit_decay(x, y)\n",
    "\n",
    "    except:\n",
    "        print(file)\n",
    "        popt = [np.nan,  np.nan, np.nan]\n",
    "\n",
    "    # Append lifetime to dataframe\n",
    "    df_file['a'] = popt[0]\n",
    "    df_file['tau'] = popt[1]\n",
    "    df_file['c'] = popt[2]\n",
    "\n",
    "    # Add sweep data to measurement dataframe\n",
    "    df = df.append(df_file)\n",
    "\n",
    "# Sort rows by datetime\n",
    "df = df.set_index('datetime').sort_index()\n",
    "df = df.reset_index()"
   ]
  },
  {
   "cell_type": "code",
   "execution_count": 5,
   "metadata": {
    "collapsed": true
   },
   "outputs": [],
   "source": [
    "# Save df\n",
    "store = pd.HDFStore('store1.h5')\n",
    "store['df'] = df  # save it\n",
    "# store['df']  # load it\n",
    "\n",
    "store.close()\n",
    "\n",
    "df.to_csv('store1.csv')"
   ]
  }
 ],
 "metadata": {
  "kernelspec": {
   "display_name": "Python 3",
   "language": "python",
   "name": "python3"
  },
  "language_info": {
   "codemirror_mode": {
    "name": "ipython",
    "version": 3
   },
   "file_extension": ".py",
   "mimetype": "text/x-python",
   "name": "python",
   "nbconvert_exporter": "python",
   "pygments_lexer": "ipython3",
   "version": "3.5.1"
  }
 },
 "nbformat": 4,
 "nbformat_minor": 0
}
