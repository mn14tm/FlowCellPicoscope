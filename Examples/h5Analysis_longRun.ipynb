{
 "cells": [
  {
   "cell_type": "code",
   "execution_count": null,
   "metadata": {
    "collapsed": true
   },
   "outputs": [],
   "source": [
    "import pandas as pd\n",
    "import numpy as np\n",
    "import matplotlib\n",
    "import matplotlib.dates as mdates\n",
    "from datetime import datetime\n",
    "import matplotlib.pyplot as plt\n",
    "import glob as gb\n",
    "import os\n",
    "import matplotlib.dates as mdates\n",
    "\n",
    "%matplotlib notebook"
   ]
  },
  {
   "cell_type": "code",
   "execution_count": null,
   "metadata": {
    "collapsed": true
   },
   "outputs": [],
   "source": [
    "# Load HDF file\n",
    "df = pd.HDFStore('../Data/analysis_longrun.h5')['df']\n",
    "df['delta'] = (df['datetime']-df['datetime'][0]).fillna(0).astype('timedelta64[us]')/(1E6*60)\n",
    "df[['power']] = df[['power']].apply(pd.to_numeric)"
   ]
  },
  {
   "cell_type": "code",
   "execution_count": null,
   "metadata": {
    "collapsed": true
   },
   "outputs": [],
   "source": [
    "df.head()"
   ]
  },
  {
   "cell_type": "code",
   "execution_count": null,
   "metadata": {
    "collapsed": true
   },
   "outputs": [],
   "source": [
    "# Create plot of lifetime vs time\n",
    "fig, ax = plt.subplots()\n",
    "ax.plot('datetime', 'tau', 'o', alpha=0.3, data=df)\n",
    "rolling = df['tau'].rolling(window=50, center=True).mean()\n",
    "ax.plot(df['datetime'], rolling, '-', lw=2)  # label='rolling ({k})'.format(k=key)\n",
    "\n",
    "# format the ticks\n",
    "fig.autofmt_xdate()  # Rotate slightly\n",
    "\n",
    "ax.xaxis.grid(True, which=\"major\")\n",
    "ax.yaxis.grid()\n",
    "plt.tight_layout()\n",
    "plt.ticklabel_format(useOffset=False, axis='y')\n",
    "\n",
    "plt.xlabel('Time (H:M)')\n",
    "plt.ylabel('Lifetime (ms)')\n",
    "# plt.savefig(\"../Data/\" + str(timestamp) + '/lifetimeVsTime.png', dpi=500)"
   ]
  },
  {
   "cell_type": "code",
   "execution_count": null,
   "metadata": {
    "collapsed": true
   },
   "outputs": [],
   "source": [
    "df = df.set_index('delta')"
   ]
  },
  {
   "cell_type": "code",
   "execution_count": null,
   "metadata": {
    "collapsed": true
   },
   "outputs": [],
   "source": [
    "# Create plot of lifetime vs time\n",
    "fig, ax = plt.subplots()\n",
    "ax.plot('tempC', '-', data=df)\n",
    "\n",
    "ax.xaxis.grid(True, which=\"major\")\n",
    "ax.yaxis.grid()\n",
    "# format the ticks\n",
    "fig.autofmt_xdate()  # Rotate slightly\n",
    "plt.tight_layout()\n",
    "plt.ticklabel_format(useOffset=False, axis='y')\n",
    "\n",
    "plt.xlabel('Time (H:M)')\n",
    "plt.ylabel('Lifetime (ms)')\n",
    "plt.legend()\n",
    "# plt.savefig(\"Data/\" + str(timestamp) + '/lifetimeVsTime.png', dpi=500)"
   ]
  },
  {
   "cell_type": "code",
   "execution_count": null,
   "metadata": {
    "collapsed": true
   },
   "outputs": [],
   "source": [
    "# Plot all data\n",
    "for col in ['humidity', 'power', 'tempC', 'thermocouple_in', 'thermocouple_out', 'A', 'tau', 'c']:\n",
    "    fig, ax = plt.subplots()\n",
    "    ax.plot(col, '-', data=df)\n",
    "\n",
    "    ax.xaxis.grid(True, which=\"major\")\n",
    "    ax.yaxis.grid()\n",
    "    # format the ticks\n",
    "    fig.autofmt_xdate()  # Rotate slightly\n",
    "    plt.tight_layout()\n",
    "    plt.ticklabel_format(useOffset=False, axis='y')\n",
    "\n",
    "    plt.xlabel('Time (H:M)')\n",
    "    plt.ylabel('Lifetime (ms)')\n",
    "    plt.legend()"
   ]
  },
  {
   "cell_type": "code",
   "execution_count": null,
   "metadata": {
    "collapsed": true
   },
   "outputs": [],
   "source": [
    "plt.close(\"all\")"
   ]
  },
  {
   "cell_type": "markdown",
   "metadata": {},
   "source": [
    "# Lifetime"
   ]
  },
  {
   "cell_type": "code",
   "execution_count": null,
   "metadata": {
    "collapsed": true
   },
   "outputs": [],
   "source": [
    "# Calculate rolling dataframe\n",
    "r = df.rolling(window=50)"
   ]
  },
  {
   "cell_type": "code",
   "execution_count": null,
   "metadata": {
    "collapsed": true
   },
   "outputs": [],
   "source": [
    "fig, ax1 = plt.subplots()\n",
    "ax2 = ax1.twinx()\n",
    "\n",
    "ax1.plot(r['tau'].mean(), '-', color='b', lw=2)\n",
    "ax1.set_ylabel('tau', color='b')\n",
    "\n",
    "ax2.plot(r['A'].mean(), '-', color='g', lw=2)\n",
    "ax2.set_ylabel('A', color='g')\n",
    "\n",
    "ax1.set_xlabel('Time since start of experiment (Mins)')\n",
    "ax1.grid()\n",
    "plt.tight_layout()\n",
    "ax1.ticklabel_format(useOffset=False, axis='y')\n",
    "ax2.ticklabel_format(useOffset=False, axis='y')\n",
    "\n",
    "\n",
    "fig.autofmt_xdate()  # Rotate xticks slightly\n",
    "# plt.tight_layout()\n",
    "# plt.savefig(\"../Data/RollingMean.png\", dpi=600)"
   ]
  },
  {
   "cell_type": "code",
   "execution_count": null,
   "metadata": {
    "collapsed": true
   },
   "outputs": [],
   "source": [
    "fig, ax = plt.subplots()\n",
    "\n",
    "ax.plot(r['tau'].mean(), '.', alpha=0.1, lw=2)\n",
    "\n",
    "ax.xaxis.grid(True, which=\"major\")\n",
    "ax.yaxis.grid()\n",
    "# format the ticks\n",
    "fig.autofmt_xdate()  # Rotate slightly\n",
    "# plt.tight_layout()\n",
    "plt.ticklabel_format(useOffset=False, axis='y')\n",
    "\n",
    "plt.xlabel('Time since start of experiment (Mins)')\n",
    "# plt.ylabel('Life (degrees)')\n",
    "plt.legend(loc='best')\n",
    "# plt.savefig(\"../Data/RollingMean.png\", dpi=600)"
   ]
  },
  {
   "cell_type": "markdown",
   "metadata": {},
   "source": [
    "# Laser Optical Power"
   ]
  },
  {
   "cell_type": "code",
   "execution_count": null,
   "metadata": {
    "collapsed": true
   },
   "outputs": [],
   "source": [
    "fig, ax = plt.subplots()\n",
    "\n",
    "ax.plot('power', '.', alpha=0.1, data=df)\n",
    "\n",
    "ax.xaxis.grid(True, which=\"major\")\n",
    "ax.yaxis.grid()\n",
    "# format the ticks\n",
    "fig.autofmt_xdate()  # Rotate slightly\n",
    "# plt.tight_layout()\n",
    "plt.ticklabel_format(useOffset=False, axis='y')\n",
    "\n",
    "plt.xlabel('Time since start of experiment (Mins)')\n",
    "plt.ylabel('Laser optical power')\n",
    "plt.legend(loc='best')\n",
    "# plt.savefig(\"../Data/RollingMean.png\", dpi=600)"
   ]
  },
  {
   "cell_type": "code",
   "execution_count": null,
   "metadata": {
    "collapsed": true
   },
   "outputs": [],
   "source": [
    "fig, ax = plt.subplots()\n",
    "\n",
    "ax.plot('tempC', 'power', '.', alpha=0.1, data=df)\n",
    "# ax.plot('humidity', 'power', '.', alpha=0.1, data=df)\n",
    "\n",
    "ax.xaxis.grid(True, which=\"major\")\n",
    "ax.yaxis.grid()\n",
    "# format the ticks\n",
    "fig.autofmt_xdate()  # Rotate slightly\n",
    "# plt.tight_layout()\n",
    "plt.ticklabel_format(useOffset=False, axis='y')\n",
    "\n",
    "plt.xlabel('TempC')\n",
    "plt.ylabel('Laser optical power')\n",
    "plt.legend(loc='best')\n",
    "# plt.savefig(\"../Data/RollingMean.png\", dpi=600)"
   ]
  },
  {
   "cell_type": "markdown",
   "metadata": {},
   "source": [
    "# Ambient"
   ]
  },
  {
   "cell_type": "code",
   "execution_count": null,
   "metadata": {
    "collapsed": true
   },
   "outputs": [],
   "source": [
    "fig, ax1 = plt.subplots()\n",
    "ax2 = ax1.twinx()\n",
    "\n",
    "ax1.plot(r['tempC'].mean(), '-', color='b', lw=2)\n",
    "ax1.set_ylabel('tempC', color='b')\n",
    "\n",
    "ax2.plot(r['humidity'].mean(), '-', color='g', lw=2)\n",
    "ax2.set_ylabel('humidity', color='g')\n",
    "\n",
    "ax1.set_xlabel('Time since start of experiment (Mins)')\n",
    "ax1.grid()\n",
    "plt.tight_layout()\n",
    "ax1.ticklabel_format(useOffset=False, axis='y')\n",
    "ax2.ticklabel_format(useOffset=False, axis='y')\n",
    "\n",
    "\n",
    "fig.autofmt_xdate()  # Rotate xticks slightly\n",
    "# plt.tight_layout()\n",
    "# plt.savefig(\"../Data/RollingMean.png\", dpi=600)"
   ]
  },
  {
   "cell_type": "markdown",
   "metadata": {},
   "source": [
    "# Thermocoupl"
   ]
  },
  {
   "cell_type": "code",
   "execution_count": null,
   "metadata": {
    "collapsed": true
   },
   "outputs": [],
   "source": []
  }
 ],
 "metadata": {
  "kernelspec": {
   "display_name": "Python 3",
   "language": "python",
   "name": "python3"
  },
  "language_info": {
   "codemirror_mode": {
    "name": "ipython",
    "version": 3
   },
   "file_extension": ".py",
   "mimetype": "text/x-python",
   "name": "python",
   "nbconvert_exporter": "python",
   "pygments_lexer": "ipython3",
   "version": "3.5.2"
  }
 },
 "nbformat": 4,
 "nbformat_minor": 0
}
