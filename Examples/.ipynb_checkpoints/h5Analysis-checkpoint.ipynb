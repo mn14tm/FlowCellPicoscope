{
 "cells": [
  {
   "cell_type": "code",
   "execution_count": null,
   "metadata": {
    "collapsed": true
   },
   "outputs": [],
   "source": [
    "import pandas as pd\n",
    "import numpy as np\n",
    "import matplotlib\n",
    "import matplotlib.dates as mdates\n",
    "from datetime import datetime\n",
    "import matplotlib.pyplot as plt\n",
    "import glob as gb\n",
    "import os\n",
    "import matplotlib.dates as mdates\n",
    "\n",
    "%matplotlib notebook"
   ]
  },
  {
   "cell_type": "code",
   "execution_count": null,
   "metadata": {
    "collapsed": true
   },
   "outputs": [],
   "source": [
    "# Load HDF file\n",
    "\n",
    "# df = pd.HDFStore('../Data/analysis_10mins.h5')['df']\n",
    "# df = pd.HDFStore('../Data/analysis_T6.h5')['df']\n",
    "df = pd.HDFStore('../Data/analysisAA.h5')['df']\n",
    "# df = pd.HDFStore('../Data/analysis_flipflop.h5')['df']\n",
    "\n",
    "# Create column for time since start of measurement\n",
    "df['delta'] = (df['datetime']-df['datetime'][0]).fillna(0).astype('timedelta64[us]')/(1E6*60)\n",
    "\n",
    "# df.info()"
   ]
  },
  {
   "cell_type": "code",
   "execution_count": null,
   "metadata": {
    "collapsed": true
   },
   "outputs": [],
   "source": [
    "# Get some useful data for plotting later\n",
    "flush_time = df['run_time'][0]"
   ]
  },
  {
   "cell_type": "code",
   "execution_count": null,
   "metadata": {
    "collapsed": true
   },
   "outputs": [],
   "source": [
    "df.head()\n",
    "# df.info()"
   ]
  },
  {
   "cell_type": "markdown",
   "metadata": {},
   "source": [
    "# Real time raw data"
   ]
  },
  {
   "cell_type": "code",
   "execution_count": null,
   "metadata": {
    "collapsed": true
   },
   "outputs": [],
   "source": [
    "# Create plot of lifetime vs time\n",
    "fig, ax = plt.subplots()\n",
    "ax.plot(df['datetime'], df['tau'], 'o', alpha=0.3)\n",
    "# ax.plot(df['datetime'], df['tempC'], '-')\n",
    "\n",
    "# format the ticks\n",
    "# ax.xaxis.set_major_locator(mdates.HourLocator())\n",
    "# ax.xaxis.set_major_formatter(mdates.DateFormatter('%H:%M'))\n",
    "ax.xaxis.set_major_locator(mdates.MinuteLocator(byminute=np.arange(0, 60, flush_time)))\n",
    "ax.xaxis.set_major_formatter(mdates.DateFormatter('%H:%M'))\n",
    "fig.autofmt_xdate()  # Rotate slightly\n",
    "\n",
    "ax.xaxis.grid(True, which=\"major\")\n",
    "ax.yaxis.grid()\n",
    "plt.tight_layout()\n",
    "plt.ticklabel_format(useOffset=False, axis='y')\n",
    "\n",
    "plt.xlabel('Time (H:M)')\n",
    "plt.ylabel('Lifetime (ms)')\n",
    "# plt.savefig(\"Data/\" + str(timestamp) + '/lifetimeVsTime.png', dpi=500)"
   ]
  },
  {
   "cell_type": "code",
   "execution_count": null,
   "metadata": {
    "collapsed": true
   },
   "outputs": [],
   "source": [
    "# Create plot of lifetime vs time\n",
    "fig, ax = plt.subplots()\n",
    "ax.plot(df['datetime'], df['thermocouple_in'], '-')\n",
    "ax.plot(df['datetime'], df['thermocouple_out'], '-')\n",
    "# ax.plot(df['datetime'], df['tempC'], '-')\n",
    "\n",
    "# format the ticks\n",
    "# ax.xaxis.set_major_locator(mdates.HourLocator())\n",
    "# ax.xaxis.set_major_formatter(mdates.DateFormatter('%H:%M'))\n",
    "ax.xaxis.set_major_locator(mdates.MinuteLocator(byminute=np.arange(0, 60, flush_time)))\n",
    "ax.xaxis.set_major_formatter(mdates.DateFormatter('%H:%M'))\n",
    "fig.autofmt_xdate()  # Rotate slightly\n",
    "\n",
    "ax.xaxis.grid(True, which=\"major\")\n",
    "ax.yaxis.grid()\n",
    "plt.tight_layout()\n",
    "plt.ticklabel_format(useOffset=False, axis='y')\n",
    "\n",
    "plt.xlabel('Time (H:M)')\n",
    "plt.ylabel('Lifetime (ms)')\n",
    "plt.legend()\n",
    "# plt.savefig(\"Data/\" + str(timestamp) + '/lifetimeVsTime.png', dpi=500)"
   ]
  },
  {
   "cell_type": "markdown",
   "metadata": {},
   "source": [
    "# Rolling Mean"
   ]
  },
  {
   "cell_type": "code",
   "execution_count": null,
   "metadata": {
    "collapsed": true
   },
   "outputs": [],
   "source": [
    "r = df.set_index('delta').rolling(window=100)\n",
    "\n",
    "fig, ax = plt.subplots()\n",
    "\n",
    "# ax.plot(df['delta'], df['tau'], 'o', alpha=0.3)\n",
    "ax.plot(r['tau'].mean(), '-', lw=2)\n",
    "\n",
    "ax.xaxis.grid(True, which=\"major\")\n",
    "ax.yaxis.grid()\n",
    "plt.xticks(np.arange(0, max(df['delta'])+1, flush_time))\n",
    "# plt.xticks(np.arange(0, max(df['delta'])+1, 5))\n",
    "# plt.tight_layout()\n",
    "plt.ticklabel_format(useOffset=False, axis='y')\n",
    "\n",
    "# plt.title('T6: New sample every {:d} mins'.format(flush_time))\n",
    "plt.xlabel('Time since start of experiment (Mins)')\n",
    "plt.ylabel('Lifetime (ms)')\n",
    "# plt.savefig(\"../Data/RollingMean.png\", dpi=600)"
   ]
  },
  {
   "cell_type": "markdown",
   "metadata": {},
   "source": [
    "# Drop Sweeps"
   ]
  },
  {
   "cell_type": "code",
   "execution_count": null,
   "metadata": {
    "collapsed": true
   },
   "outputs": [],
   "source": [
    "# Drop first 600 sweeps (300 sweeps = 1 min @ 5HZ capture rate)\n",
    "df = df[df.sweep_no > 900]\n",
    "# df = df[df.sweep_no < 900]"
   ]
  },
  {
   "cell_type": "markdown",
   "metadata": {},
   "source": [
    "# Each concentration vs lifetime"
   ]
  },
  {
   "cell_type": "code",
   "execution_count": null,
   "metadata": {
    "collapsed": true
   },
   "outputs": [],
   "source": [
    "# All in one\n",
    "fig, ax = plt.subplots()\n",
    "\n",
    "for key, grp in df.groupby(['concentration']):\n",
    "    ax.plot(grp['delta'], grp['tau'], 'o', alpha=0.3, label=key)\n",
    "    grp['rolling'] = grp['tau'].rolling(window=50).mean()\n",
    "    ax.plot(grp['delta'], grp['rolling'], '-', lw=2)  # label='rolling ({k})'.format(k=key)\n",
    "\n",
    "ax.xaxis.grid(True, which=\"major\")\n",
    "plt.xticks(np.arange(0, max(df['delta'])+1, flush_time))\n",
    "plt.legend(loc='best', ncol=3, fontsize='small')"
   ]
  },
  {
   "cell_type": "code",
   "execution_count": null,
   "metadata": {
    "collapsed": true
   },
   "outputs": [],
   "source": [
    "# Individual plots\n",
    "for key, grp in df.groupby(['concentration']):\n",
    "    plt.figure()\n",
    "    plt.plot(grp['delta'], grp['tau'], 'o', alpha=0.3, label=key)\n",
    "    grp['rolling'] = grp['tau'].rolling(window=50).mean()\n",
    "    plt.plot(grp['delta'], grp['rolling'], '.', lw=3, color='red', label='rolling ({k})'.format(k=key)) \n",
    "    plt.title(key)\n",
    "    plt.grid()\n",
    "    plt.legend()\n",
    "#     pass"
   ]
  },
  {
   "cell_type": "markdown",
   "metadata": {},
   "source": [
    "## tau & A vs concentration"
   ]
  },
  {
   "cell_type": "code",
   "execution_count": null,
   "metadata": {
    "collapsed": true
   },
   "outputs": [],
   "source": [
    "grouped = df.groupby(['concentration'])\n",
    "mean = grouped.mean()\n",
    "stdd = grouped.std()\n",
    "\n",
    "mean.head()"
   ]
  },
  {
   "cell_type": "code",
   "execution_count": null,
   "metadata": {
    "collapsed": true
   },
   "outputs": [],
   "source": [
    "stdd.head()"
   ]
  },
  {
   "cell_type": "code",
   "execution_count": null,
   "metadata": {
    "collapsed": true
   },
   "outputs": [],
   "source": [
    "mean = mean.reset_index()\n",
    "stdd = stdd.reset_index()\n",
    "\n",
    "fig, ax1 = plt.subplots()\n",
    "\n",
    "ax2 = ax1.twinx()\n",
    "ax1.errorbar(mean['concentration'], mean['tau'], yerr=stdd['tau'], color='b', lw='2')\n",
    "ax2.errorbar(mean['concentration'], mean['A'], yerr=stdd['A'], color='g', lw='2')\n",
    "\n",
    "ax1.set_xlabel('Glucose concentration (% Weight)')\n",
    "ax1.set_ylabel('Lifetime (ms)', color='b')\n",
    "ax2.set_ylabel('Amplitude (A.U.)', color='g')\n",
    "\n",
    "ax1.grid()\n",
    "plt.tight_layout()\n",
    "ax1.ticklabel_format(useOffset=False, axis='y')\n",
    "ax2.ticklabel_format(useOffset=False, axis='y')\n",
    "\n",
    "plt.tight_layout()\n",
    "# plt.title(df['chip'][0])\n",
    "plt.savefig(\"../Data/Plots/together_T6\" + '.png', dpi=600)"
   ]
  },
  {
   "cell_type": "code",
   "execution_count": null,
   "metadata": {
    "collapsed": true
   },
   "outputs": [],
   "source": [
    "fig, ax1 = plt.subplots()\n",
    "\n",
    "ax2 = ax1.twinx()\n",
    "ax1.plot(mean['concentration'], mean['tau'], 'b.-', lw='2', markersize=20)\n",
    "ax2.plot(mean['concentration'], mean['A'], 'g.-', lw='2', markersize=20)\n",
    "\n",
    "ax1.set_xlabel('Glucose concentration (mmol)')\n",
    "ax1.set_xlabel('Intralipid concentration (%)')\n",
    "ax1.set_ylabel('Lifetime (ms)', color='b')\n",
    "ax2.set_ylabel('Amplitude (A.U.)', color='g')\n",
    "\n",
    "ax1.grid()\n",
    "plt.tight_layout()\n",
    "ax1.ticklabel_format(useOffset=False, axis='y')\n",
    "ax2.ticklabel_format(useOffset=False, axis='y')\n",
    "\n",
    "plt.tight_layout()\n",
    "# plt.title(df['chip'][0])\n",
    "# plt.savefig(\"Plots/together/\" + sample + '_T12_intralipidConc.png', dpi=500)"
   ]
  },
  {
   "cell_type": "markdown",
   "metadata": {},
   "source": [
    "# Plot sensor data"
   ]
  },
  {
   "cell_type": "code",
   "execution_count": null,
   "metadata": {
    "collapsed": true
   },
   "outputs": [],
   "source": [
    "# Create plot of lifetime vs time\n",
    "fig, ax = plt.subplots()\n",
    "ax.plot(df['datetime'], df['tempC'], '-')\n",
    "# ax.plot(df['datetime'], df['humidity'], '-')\n",
    "# ax.plot(df['datetime'], df['tempC'], '-')\n",
    "\n",
    "# format the ticks\n",
    "ax.xaxis.set_major_locator(mdates.MinuteLocator(byminute=np.arange(0, 60, flush_time)))\n",
    "ax.xaxis.set_major_formatter(mdates.DateFormatter('%H:%M'))\n",
    "fig.autofmt_xdate()  # Rotate slightly\n",
    "\n",
    "ax.xaxis.grid(True, which=\"major\")\n",
    "ax.yaxis.grid()\n",
    "plt.tight_layout()\n",
    "plt.ticklabel_format(useOffset=False, axis='y')\n",
    "\n",
    "plt.xlabel('Time (H:M)')\n",
    "plt.ylabel('Lifetime (ms)')\n",
    "plt.legend()\n",
    "# plt.savefig(\"Data/\" + str(timestamp) + '/lifetimeVsTime.png', dpi=500)"
   ]
  },
  {
   "cell_type": "code",
   "execution_count": null,
   "metadata": {
    "collapsed": true
   },
   "outputs": [],
   "source": [
    "# Create plot of lifetime vs time\n",
    "fig, ax = plt.subplots()\n",
    "ax.plot(df['datetime'], df['thermocouple_in'], '-')\n",
    "ax.plot(df['datetime'], df['thermocouple_out'], '-')\n",
    "# ax.plot(df['datetime'], df['tempC'], '-')\n",
    "\n",
    "# format the ticks\n",
    "ax.xaxis.set_major_locator(mdates.MinuteLocator(byminute=np.arange(0, 60, flush_time)))\n",
    "ax.xaxis.set_major_formatter(mdates.DateFormatter('%H:%M'))\n",
    "fig.autofmt_xdate()  # Rotate slightly\n",
    "\n",
    "ax.xaxis.grid(True, which=\"major\")\n",
    "ax.yaxis.grid()\n",
    "plt.tight_layout()\n",
    "plt.ticklabel_format(useOffset=False, axis='y')\n",
    "\n",
    "plt.xlabel('Time (H:M)')\n",
    "plt.ylabel('Lifetime (ms)')\n",
    "plt.legend()\n",
    "# plt.savefig(\"Data/\" + str(timestamp) + '/lifetimeVsTime.png', dpi=500)"
   ]
  },
  {
   "cell_type": "code",
   "execution_count": null,
   "metadata": {
    "collapsed": true
   },
   "outputs": [],
   "source": [
    "r = df.set_index('delta').rolling(window=100)\n",
    "\n",
    "fig, ax = plt.subplots()\n",
    "\n",
    "ax.plot(r['thermocouple_in'].mean(), '-', lw=2)\n",
    "ax.plot(r['thermocouple_out'].mean(), '-', lw=2)\n",
    "\n",
    "ax.xaxis.grid(True, which=\"major\")\n",
    "ax.yaxis.grid()\n",
    "# plt.xticks(np.arange(0, max(df['delta'])+1, flush_time))\n",
    "plt.xticks(np.arange(0, max(df['delta'])+1, 1))\n",
    "# plt.tight_layout()\n",
    "plt.ticklabel_format(useOffset=False, axis='y')\n",
    "\n",
    "plt.xlabel('Time since start of experiment (Mins)')\n",
    "plt.ylabel('Temperature (degrees)')\n",
    "plt.legend()\n",
    "# plt.savefig(\"../Data/RollingMean.png\", dpi=600)"
   ]
  }
 ],
 "metadata": {
  "kernelspec": {
   "display_name": "Python 3",
   "language": "python",
   "name": "python3"
  },
  "language_info": {
   "codemirror_mode": {
    "name": "ipython",
    "version": 3
   },
   "file_extension": ".py",
   "mimetype": "text/x-python",
   "name": "python",
   "nbconvert_exporter": "python",
   "pygments_lexer": "ipython3",
   "version": "3.5.2"
  }
 },
 "nbformat": 4,
 "nbformat_minor": 0
}
