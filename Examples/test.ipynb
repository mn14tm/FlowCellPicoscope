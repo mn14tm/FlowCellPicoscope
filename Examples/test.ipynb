{
 "cells": [
  {
   "cell_type": "code",
   "execution_count": 4,
   "metadata": {
    "collapsed": true
   },
   "outputs": [],
   "source": [
    "import numpy as np"
   ]
  },
  {
   "cell_type": "code",
   "execution_count": 25,
   "metadata": {
    "collapsed": true
   },
   "outputs": [],
   "source": [
    "keys = ['spe_TE_lower',\n",
    "        'spe_TE_upper',\n",
    "        'spe_TM_p_upper',\n",
    "        'spe_TM_p_lower',\n",
    "        'spe_TM_s_upper',\n",
    "        'spe_TM_s_lower'\n",
    "        ]\n",
    "results = {key: np.zeros(1550, dtype=float) for key in keys}"
   ]
  },
  {
   "cell_type": "code",
   "execution_count": 26,
   "metadata": {
    "collapsed": false
   },
   "outputs": [
    {
     "data": {
      "text/plain": [
       "{'spe_TE_lower': array([ 0.,  0.,  0., ...,  0.,  0.,  0.]),\n",
       " 'spe_TE_upper': array([ 0.,  0.,  0., ...,  0.,  0.,  0.]),\n",
       " 'spe_TM_p_lower': array([ 0.,  0.,  0., ...,  0.,  0.,  0.]),\n",
       " 'spe_TM_p_upper': array([ 0.,  0.,  0., ...,  0.,  0.,  0.]),\n",
       " 'spe_TM_s_lower': array([ 0.,  0.,  0., ...,  0.,  0.,  0.]),\n",
       " 'spe_TM_s_upper': array([ 0.,  0.,  0., ...,  0.,  0.,  0.])}"
      ]
     },
     "execution_count": 26,
     "metadata": {},
     "output_type": "execute_result"
    }
   ],
   "source": [
    "results"
   ]
  },
  {
   "cell_type": "code",
   "execution_count": 28,
   "metadata": {
    "collapsed": false
   },
   "outputs": [
    {
     "data": {
      "text/plain": [
       "array([ 0.,  0.,  0.,  0.,  0.])"
      ]
     },
     "execution_count": 28,
     "metadata": {},
     "output_type": "execute_result"
    }
   ],
   "source": [
    "results['spe_TE_lower'][0:5]"
   ]
  },
  {
   "cell_type": "code",
   "execution_count": null,
   "metadata": {
    "collapsed": true
   },
   "outputs": [],
   "source": []
  }
 ],
 "metadata": {
  "kernelspec": {
   "display_name": "Python [conda root]",
   "language": "python",
   "name": "conda-root-py"
  },
  "language_info": {
   "codemirror_mode": {
    "name": "ipython",
    "version": 3
   },
   "file_extension": ".py",
   "mimetype": "text/x-python",
   "name": "python",
   "nbconvert_exporter": "python",
   "pygments_lexer": "ipython3",
   "version": "3.5.2"
  }
 },
 "nbformat": 4,
 "nbformat_minor": 1
}
