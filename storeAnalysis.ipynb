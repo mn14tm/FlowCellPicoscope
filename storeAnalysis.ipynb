{
 "cells": [
  {
   "cell_type": "code",
   "execution_count": 1,
   "metadata": {
    "collapsed": true
   },
   "outputs": [],
   "source": [
    "import pandas as pd\n",
    "import numpy as np\n",
    "import matplotlib.dates as mdates\n",
    "import matplotlib.pyplot as plt\n",
    "import glob as gb\n",
    "import os\n",
    "\n",
    "%matplotlib inline"
   ]
  },
  {
   "cell_type": "code",
   "execution_count": 2,
   "metadata": {
    "collapsed": false
   },
   "outputs": [
    {
     "name": "stdout",
     "output_type": "stream",
     "text": [
      "<class 'pandas.core.frame.DataFrame'>\n",
      "Int64Index: 4200 entries, 0 to 4199\n",
      "Data columns (total 15 columns):\n",
      "datetime         4200 non-null datetime64[ns]\n",
      "chip             4200 non-null object\n",
      "concentration    4200 non-null float64\n",
      "fs               4200 non-null float64\n",
      "humidity         4200 non-null float64\n",
      "medium           4200 non-null object\n",
      "sample_no        4200 non-null int64\n",
      "sweep_no         4200 non-null int64\n",
      "sweeps           4200 non-null int64\n",
      "tempC            4200 non-null float64\n",
      "timeID           4200 non-null float64\n",
      "folder           4200 non-null object\n",
      "a                4200 non-null float64\n",
      "tau              4200 non-null float64\n",
      "c                4200 non-null float64\n",
      "dtypes: datetime64[ns](1), float64(8), int64(3), object(3)\n",
      "memory usage: 525.0+ KB\n"
     ]
    }
   ],
   "source": [
    "# Load HDF file\n",
    "df = pd.HDFStore('store1.h5')['df']\n",
    "df.info()"
   ]
  },
  {
   "cell_type": "code",
   "execution_count": 3,
   "metadata": {
    "collapsed": false
   },
   "outputs": [
    {
     "data": {
      "text/plain": [
       "Index(['datetime', 'chip', 'concentration', 'fs', 'humidity', 'medium',\n",
       "       'sample_no', 'sweep_no', 'sweeps', 'tempC', 'timeID', 'folder', 'a',\n",
       "       'tau', 'c'],\n",
       "      dtype='object')"
      ]
     },
     "execution_count": 3,
     "metadata": {},
     "output_type": "execute_result"
    }
   ],
   "source": [
    "df.columns"
   ]
  },
  {
   "cell_type": "code",
   "execution_count": 4,
   "metadata": {
    "collapsed": false,
    "scrolled": true
   },
   "outputs": [
    {
     "data": {
      "text/html": [
       "<div>\n",
       "<table border=\"1\" class=\"dataframe\">\n",
       "  <thead>\n",
       "    <tr style=\"text-align: right;\">\n",
       "      <th></th>\n",
       "      <th>datetime</th>\n",
       "      <th>chip</th>\n",
       "      <th>concentration</th>\n",
       "      <th>fs</th>\n",
       "      <th>humidity</th>\n",
       "      <th>medium</th>\n",
       "      <th>sample_no</th>\n",
       "      <th>sweep_no</th>\n",
       "      <th>sweeps</th>\n",
       "      <th>tempC</th>\n",
       "      <th>timeID</th>\n",
       "      <th>folder</th>\n",
       "      <th>a</th>\n",
       "      <th>tau</th>\n",
       "      <th>c</th>\n",
       "    </tr>\n",
       "  </thead>\n",
       "  <tbody>\n",
       "    <tr>\n",
       "      <th>0</th>\n",
       "      <td>2016-06-23 16:36:46.948277</td>\n",
       "      <td>T12</td>\n",
       "      <td>0.0</td>\n",
       "      <td>0.0001</td>\n",
       "      <td>41.02</td>\n",
       "      <td>Intralipid_concentration</td>\n",
       "      <td>1000</td>\n",
       "      <td>0</td>\n",
       "      <td>600</td>\n",
       "      <td>26.36</td>\n",
       "      <td>1.466696e+09</td>\n",
       "      <td>1466696206.82827</td>\n",
       "      <td>0.233894</td>\n",
       "      <td>9.445533</td>\n",
       "      <td>0.003037</td>\n",
       "    </tr>\n",
       "    <tr>\n",
       "      <th>1</th>\n",
       "      <td>2016-06-23 16:36:47.280296</td>\n",
       "      <td>T12</td>\n",
       "      <td>0.0</td>\n",
       "      <td>0.0001</td>\n",
       "      <td>41.02</td>\n",
       "      <td>Intralipid_concentration</td>\n",
       "      <td>1000</td>\n",
       "      <td>1</td>\n",
       "      <td>600</td>\n",
       "      <td>26.36</td>\n",
       "      <td>1.466696e+09</td>\n",
       "      <td>1466696206.82827</td>\n",
       "      <td>0.234519</td>\n",
       "      <td>9.445358</td>\n",
       "      <td>0.003049</td>\n",
       "    </tr>\n",
       "    <tr>\n",
       "      <th>2</th>\n",
       "      <td>2016-06-23 16:36:47.499308</td>\n",
       "      <td>T12</td>\n",
       "      <td>0.0</td>\n",
       "      <td>0.0001</td>\n",
       "      <td>40.98</td>\n",
       "      <td>Intralipid_concentration</td>\n",
       "      <td>1000</td>\n",
       "      <td>2</td>\n",
       "      <td>600</td>\n",
       "      <td>26.37</td>\n",
       "      <td>1.466696e+09</td>\n",
       "      <td>1466696206.82827</td>\n",
       "      <td>0.234968</td>\n",
       "      <td>9.434953</td>\n",
       "      <td>0.003066</td>\n",
       "    </tr>\n",
       "    <tr>\n",
       "      <th>3</th>\n",
       "      <td>2016-06-23 16:36:47.645317</td>\n",
       "      <td>T12</td>\n",
       "      <td>0.0</td>\n",
       "      <td>0.0001</td>\n",
       "      <td>40.98</td>\n",
       "      <td>Intralipid_concentration</td>\n",
       "      <td>1000</td>\n",
       "      <td>3</td>\n",
       "      <td>600</td>\n",
       "      <td>26.37</td>\n",
       "      <td>1.466696e+09</td>\n",
       "      <td>1466696206.82827</td>\n",
       "      <td>0.234263</td>\n",
       "      <td>9.439931</td>\n",
       "      <td>0.003066</td>\n",
       "    </tr>\n",
       "    <tr>\n",
       "      <th>4</th>\n",
       "      <td>2016-06-23 16:36:47.796325</td>\n",
       "      <td>T12</td>\n",
       "      <td>0.0</td>\n",
       "      <td>0.0001</td>\n",
       "      <td>40.98</td>\n",
       "      <td>Intralipid_concentration</td>\n",
       "      <td>1000</td>\n",
       "      <td>4</td>\n",
       "      <td>600</td>\n",
       "      <td>26.37</td>\n",
       "      <td>1.466696e+09</td>\n",
       "      <td>1466696206.82827</td>\n",
       "      <td>0.235666</td>\n",
       "      <td>9.437832</td>\n",
       "      <td>0.003120</td>\n",
       "    </tr>\n",
       "  </tbody>\n",
       "</table>\n",
       "</div>"
      ],
      "text/plain": [
       "                    datetime chip  concentration      fs  humidity  \\\n",
       "0 2016-06-23 16:36:46.948277  T12            0.0  0.0001     41.02   \n",
       "1 2016-06-23 16:36:47.280296  T12            0.0  0.0001     41.02   \n",
       "2 2016-06-23 16:36:47.499308  T12            0.0  0.0001     40.98   \n",
       "3 2016-06-23 16:36:47.645317  T12            0.0  0.0001     40.98   \n",
       "4 2016-06-23 16:36:47.796325  T12            0.0  0.0001     40.98   \n",
       "\n",
       "                     medium  sample_no  sweep_no  sweeps  tempC        timeID  \\\n",
       "0  Intralipid_concentration       1000         0     600  26.36  1.466696e+09   \n",
       "1  Intralipid_concentration       1000         1     600  26.36  1.466696e+09   \n",
       "2  Intralipid_concentration       1000         2     600  26.37  1.466696e+09   \n",
       "3  Intralipid_concentration       1000         3     600  26.37  1.466696e+09   \n",
       "4  Intralipid_concentration       1000         4     600  26.37  1.466696e+09   \n",
       "\n",
       "             folder         a       tau         c  \n",
       "0  1466696206.82827  0.233894  9.445533  0.003037  \n",
       "1  1466696206.82827  0.234519  9.445358  0.003049  \n",
       "2  1466696206.82827  0.234968  9.434953  0.003066  \n",
       "3  1466696206.82827  0.234263  9.439931  0.003066  \n",
       "4  1466696206.82827  0.235666  9.437832  0.003120  "
      ]
     },
     "execution_count": 4,
     "metadata": {},
     "output_type": "execute_result"
    }
   ],
   "source": [
    "df.head()"
   ]
  },
  {
   "cell_type": "code",
   "execution_count": 5,
   "metadata": {
    "collapsed": false
   },
   "outputs": [],
   "source": [
    "df = df[['folder', 'chip', 'concentration', 'medium', 'a', 'tau']]"
   ]
  },
  {
   "cell_type": "code",
   "execution_count": 6,
   "metadata": {
    "collapsed": false,
    "scrolled": false
   },
   "outputs": [
    {
     "data": {
      "text/html": [
       "<div>\n",
       "<table border=\"1\" class=\"dataframe\">\n",
       "  <thead>\n",
       "    <tr style=\"text-align: right;\">\n",
       "      <th></th>\n",
       "      <th></th>\n",
       "      <th>a</th>\n",
       "      <th>tau</th>\n",
       "    </tr>\n",
       "    <tr>\n",
       "      <th>chip</th>\n",
       "      <th>concentration</th>\n",
       "      <th></th>\n",
       "      <th></th>\n",
       "    </tr>\n",
       "  </thead>\n",
       "  <tbody>\n",
       "    <tr>\n",
       "      <th rowspan=\"7\" valign=\"top\">T12</th>\n",
       "      <th>0.0</th>\n",
       "      <td>0.234510</td>\n",
       "      <td>9.452306</td>\n",
       "    </tr>\n",
       "    <tr>\n",
       "      <th>0.5</th>\n",
       "      <td>0.265843</td>\n",
       "      <td>9.445100</td>\n",
       "    </tr>\n",
       "    <tr>\n",
       "      <th>1.0</th>\n",
       "      <td>0.288923</td>\n",
       "      <td>9.437490</td>\n",
       "    </tr>\n",
       "    <tr>\n",
       "      <th>2.0</th>\n",
       "      <td>0.317314</td>\n",
       "      <td>9.424925</td>\n",
       "    </tr>\n",
       "    <tr>\n",
       "      <th>3.0</th>\n",
       "      <td>0.336249</td>\n",
       "      <td>9.415326</td>\n",
       "    </tr>\n",
       "    <tr>\n",
       "      <th>4.0</th>\n",
       "      <td>0.351447</td>\n",
       "      <td>9.407387</td>\n",
       "    </tr>\n",
       "    <tr>\n",
       "      <th>5.0</th>\n",
       "      <td>0.364637</td>\n",
       "      <td>9.401316</td>\n",
       "    </tr>\n",
       "  </tbody>\n",
       "</table>\n",
       "</div>"
      ],
      "text/plain": [
       "                           a       tau\n",
       "chip concentration                    \n",
       "T12  0.0            0.234510  9.452306\n",
       "     0.5            0.265843  9.445100\n",
       "     1.0            0.288923  9.437490\n",
       "     2.0            0.317314  9.424925\n",
       "     3.0            0.336249  9.415326\n",
       "     4.0            0.351447  9.407387\n",
       "     5.0            0.364637  9.401316"
      ]
     },
     "execution_count": 6,
     "metadata": {},
     "output_type": "execute_result"
    }
   ],
   "source": [
    "grouped = df.groupby(['chip', 'medium', 'concentration'])\n",
    "grouped = df.groupby(['chip', 'concentration'])\n",
    "mean = grouped.mean()\n",
    "std = grouped.std()\n",
    "mean.head(10)"
   ]
  },
  {
   "cell_type": "code",
   "execution_count": 7,
   "metadata": {
    "collapsed": false
   },
   "outputs": [
    {
     "data": {
      "text/html": [
       "<div>\n",
       "<table border=\"1\" class=\"dataframe\">\n",
       "  <thead>\n",
       "    <tr style=\"text-align: right;\">\n",
       "      <th></th>\n",
       "      <th>concentration</th>\n",
       "      <th>a</th>\n",
       "      <th>tau</th>\n",
       "    </tr>\n",
       "    <tr>\n",
       "      <th>chip</th>\n",
       "      <th></th>\n",
       "      <th></th>\n",
       "      <th></th>\n",
       "    </tr>\n",
       "  </thead>\n",
       "  <tbody>\n",
       "    <tr>\n",
       "      <th>T12</th>\n",
       "      <td>0.0</td>\n",
       "      <td>0.234510</td>\n",
       "      <td>9.452306</td>\n",
       "    </tr>\n",
       "    <tr>\n",
       "      <th>T12</th>\n",
       "      <td>0.5</td>\n",
       "      <td>0.265843</td>\n",
       "      <td>9.445100</td>\n",
       "    </tr>\n",
       "    <tr>\n",
       "      <th>T12</th>\n",
       "      <td>1.0</td>\n",
       "      <td>0.288923</td>\n",
       "      <td>9.437490</td>\n",
       "    </tr>\n",
       "    <tr>\n",
       "      <th>T12</th>\n",
       "      <td>2.0</td>\n",
       "      <td>0.317314</td>\n",
       "      <td>9.424925</td>\n",
       "    </tr>\n",
       "    <tr>\n",
       "      <th>T12</th>\n",
       "      <td>3.0</td>\n",
       "      <td>0.336249</td>\n",
       "      <td>9.415326</td>\n",
       "    </tr>\n",
       "    <tr>\n",
       "      <th>T12</th>\n",
       "      <td>4.0</td>\n",
       "      <td>0.351447</td>\n",
       "      <td>9.407387</td>\n",
       "    </tr>\n",
       "    <tr>\n",
       "      <th>T12</th>\n",
       "      <td>5.0</td>\n",
       "      <td>0.364637</td>\n",
       "      <td>9.401316</td>\n",
       "    </tr>\n",
       "  </tbody>\n",
       "</table>\n",
       "</div>"
      ],
      "text/plain": [
       "      concentration         a       tau\n",
       "chip                                   \n",
       "T12             0.0  0.234510  9.452306\n",
       "T12             0.5  0.265843  9.445100\n",
       "T12             1.0  0.288923  9.437490\n",
       "T12             2.0  0.317314  9.424925\n",
       "T12             3.0  0.336249  9.415326\n",
       "T12             4.0  0.351447  9.407387\n",
       "T12             5.0  0.364637  9.401316"
      ]
     },
     "execution_count": 7,
     "metadata": {},
     "output_type": "execute_result"
    }
   ],
   "source": [
    "mean = mean.reset_index()\n",
    "mean = mean.set_index('chip')\n",
    "mean.head(10)"
   ]
  },
  {
   "cell_type": "code",
   "execution_count": 8,
   "metadata": {
    "collapsed": false
   },
   "outputs": [
    {
     "data": {
      "text/plain": [
       "array(['T12'], dtype=object)"
      ]
     },
     "execution_count": 8,
     "metadata": {},
     "output_type": "execute_result"
    }
   ],
   "source": [
    "mean.index.get_level_values(0).unique()"
   ]
  },
  {
   "cell_type": "code",
   "execution_count": 18,
   "metadata": {
    "collapsed": false
   },
   "outputs": [
    {
     "name": "stdout",
     "output_type": "stream",
     "text": [
      "T16\n"
     ]
    },
    {
     "data": {
      "image/png": "[encoded data removed]",
      "text/plain": [
       "<matplotlib.figure.Figure at 0x8c904a8>"
      ]
     },
     "metadata": {},
     "output_type": "display_data"
    }
   ],
   "source": [
    "for sample in mean.index.get_level_values(0).unique():\n",
    "    data = mean.loc[sample]\n",
    "    stdd = std.loc[sample]\n",
    "    \n",
    "    try:\n",
    "        \n",
    "        fig, ax1 = plt.subplots()\n",
    "\n",
    "        ax2 = ax1.twinx()\n",
    "        ax1.errorbar(data['concentration'], data['tau'], yerr=stdd['tau'], color='b', lw='2')\n",
    "        ax2.errorbar(data['concentration'], data['a'], yerr=stdd['a'], color='g', lw='2')\n",
    "\n",
    "        ax1.set_xlabel('Glucose concentration (mmol)')\n",
    "        ax1.set_ylabel('Lifetime (ms)', color='b')\n",
    "        ax2.set_ylabel('Amplitude (A.U.)', color='g')\n",
    "\n",
    "        ax1.grid()\n",
    "        plt.tight_layout()\n",
    "        ax1.ticklabel_format(useOffset=False, axis='y')\n",
    "        ax2.ticklabel_format(useOffset=False, axis='y')\n",
    "\n",
    "        plt.title(sample)\n",
    "#         plt.savefig(\"Data/Plots/together/\" + sample + '.png', dpi=500)\n",
    "        plt.close()\n",
    "    except:\n",
    "        print(sample)"
   ]
  },
  {
   "cell_type": "code",
   "execution_count": 21,
   "metadata": {
    "collapsed": false
   },
   "outputs": [
    {
     "data": {
      "text/plain": [
       "chip\n",
       "T16    10.839190\n",
       "T16    10.829842\n",
       "T16    10.954803\n",
       "T16    11.475523\n",
       "T16    12.005765\n",
       "T16    12.556237\n",
       "Name: tau, dtype: float64"
      ]
     },
     "execution_count": 21,
     "metadata": {},
     "output_type": "execute_result"
    }
   ],
   "source": [
    "mean.loc[sample]['tau']"
   ]
  },
  {
   "cell_type": "code",
   "execution_count": 9,
   "metadata": {
    "collapsed": false
   },
   "outputs": [],
   "source": [
    "for sample in mean.index.get_level_values(0).unique():\n",
    "    data = mean.loc[sample]\n",
    "    stdd = std.loc[sample]\n",
    "    \n",
    "    try:\n",
    "        \n",
    "        fig, ax1 = plt.subplots()\n",
    "\n",
    "        ax2 = ax1.twinx()\n",
    "        ax1.plot(data['concentration'], data['tau'], 'b.-', lw='2', markersize=20)\n",
    "        ax2.plot(data['concentration'], data['a'], 'g.-', lw='2', markersize=20)\n",
    "\n",
    "        ax1.set_xlabel('Glucose concentration (mmol)')\n",
    "        ax1.set_xlabel('Intralipid concentration (%)')\n",
    "        ax1.set_ylabel('Lifetime (ms)', color='b')\n",
    "        ax2.set_ylabel('Amplitude (A.U.)', color='g')\n",
    "\n",
    "        ax1.grid()\n",
    "        plt.tight_layout()\n",
    "        ax1.ticklabel_format(useOffset=False, axis='y')\n",
    "        ax2.ticklabel_format(useOffset=False, axis='y')\n",
    "\n",
    "        plt.title(sample)\n",
    "        plt.savefig(\"Plots/together/\" + sample + '_T12_intralipidConc.png', dpi=500)\n",
    "        plt.close()\n",
    "    except:\n",
    "        print(sample)"
   ]
  },
  {
   "cell_type": "code",
   "execution_count": null,
   "metadata": {
    "collapsed": true
   },
   "outputs": [],
   "source": []
  }
 ],
 "metadata": {
  "kernelspec": {
   "display_name": "Python 3",
   "language": "python",
   "name": "python3"
  },
  "language_info": {
   "codemirror_mode": {
    "name": "ipython",
    "version": 3
   },
   "file_extension": ".py",
   "mimetype": "text/x-python",
   "name": "python",
   "nbconvert_exporter": "python",
   "pygments_lexer": "ipython3",
   "version": "3.5.1"
  }
 },
 "nbformat": 4,
 "nbformat_minor": 0
}
